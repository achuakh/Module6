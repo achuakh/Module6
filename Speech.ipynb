{
 "cells": [
  {
   "cell_type": "code",
   "execution_count": 1,
   "id": "3c47c227",
   "metadata": {},
   "outputs": [
    {
     "name": "stderr",
     "output_type": "stream",
     "text": [
      "/Users/andrew/miniconda3/envs/genai/lib/python3.11/site-packages/tqdm/auto.py:21: TqdmWarning: IProgress not found. Please update jupyter and ipywidgets. See https://ipywidgets.readthedocs.io/en/stable/user_install.html\n",
      "  from .autonotebook import tqdm as notebook_tqdm\n"
     ]
    }
   ],
   "source": [
    "import speech_recognition as sr\n",
    "import pyttsx3\n",
    "import google.generativeai as genai\n",
    "import pyaudio\n",
    "import dotenv\n",
    "import os\n",
    "\n",
    "from dotenv import load_dotenv\n",
    "load_dotenv()\n",
    "\n",
    "api_key = os.getenv('gemini_api') "
   ]
  },
  {
   "cell_type": "code",
   "execution_count": 26,
   "id": "db3869a2",
   "metadata": {},
   "outputs": [],
   "source": [
    "model = pyttsx3.init()\n",
    "genai.configure(api_key=api_key)\n",
    "m = genai.GenerativeModel(\"gemini-1.5-flash\")"
   ]
  },
  {
   "cell_type": "code",
   "execution_count": 27,
   "id": "51720e1b",
   "metadata": {},
   "outputs": [
    {
     "name": "stdout",
     "output_type": "stream",
     "text": [
      "Please speak .......\n",
      "You said : is a dog in Ken.      Please wait for a few seconds…….. \n",
      "There's not enough information to answer.  \"Ken\" could refer to a person, a place, or something else.  A dog might be with Ken, near Ken, or in a place named Ken, but more context is needed.\n",
      "\n"
     ]
    }
   ],
   "source": [
    "model.say(\"How can I help you\")\n",
    "model.runAndWait()\n",
    "\n",
    "with sr.Microphone() as source:\n",
    "    sr.Recognizer().adjust_for_ambient_noise(source,duration=1)\n",
    "    print(\"Please speak .......\")\n",
    "    au = sr.Recognizer().listen(source, timeout=5, phrase_time_limit=10)\n",
    "try:\n",
    "    q = sr.Recognizer().recognize_google(au)\n",
    "    q1 = \"You said : \"+ q + \".      Please wait for a few seconds…….. \"\n",
    "    model.say(q1)\n",
    "    model.runAndWait()\n",
    "    print(q1)\n",
    "    r = m.generate_content(q)\n",
    "    model.say(r.text)\n",
    "    model.runAndWait()\n",
    "    print(r.text)\n",
    "\n",
    "except:\n",
    "    print(\"Please retry\")"
   ]
  },
  {
   "cell_type": "code",
   "execution_count": 24,
   "id": "d383d021",
   "metadata": {},
   "outputs": [],
   "source": [
    "model.stop()"
   ]
  },
  {
   "cell_type": "code",
   "execution_count": 31,
   "id": "d6896295",
   "metadata": {},
   "outputs": [
    {
     "name": "stdout",
     "output_type": "stream",
     "text": [
      "Accessing Microphone..\n",
      "Waiting for you to speak...\n",
      "Please retry...\n"
     ]
    }
   ],
   "source": [
    "import speech_recognition as sr\n",
    "\n",
    "print(\"Accessing Microphone..\")\n",
    "\n",
    "with sr.Microphone() as source:   \n",
    "    sr.Recognizer().adjust_for_ambient_noise(source, duration=2)          \n",
    "    print(\"Waiting for you to speak...\")\n",
    "    audio = sr.Recognizer().listen(source,timeout=3)                   \n",
    "try:\n",
    "    print(\"You said \" + sr.Recognizer().recognize_google(audio))    \n",
    "except:\n",
    "    print(\"Please retry...\")"
   ]
  },
  {
   "cell_type": "code",
   "execution_count": 50,
   "id": "8c015aa4",
   "metadata": {},
   "outputs": [],
   "source": [
    "import pyttsx3\n",
    "model = pyttsx3.init()\n",
    "model.say(\"hi how are you\")\n",
    "model.runAndWait()\n",
    "\n"
   ]
  }
 ],
 "metadata": {
  "kernelspec": {
   "display_name": "genai",
   "language": "python",
   "name": "python3"
  },
  "language_info": {
   "codemirror_mode": {
    "name": "ipython",
    "version": 3
   },
   "file_extension": ".py",
   "mimetype": "text/x-python",
   "name": "python",
   "nbconvert_exporter": "python",
   "pygments_lexer": "ipython3",
   "version": "3.11.7"
  }
 },
 "nbformat": 4,
 "nbformat_minor": 5
}
